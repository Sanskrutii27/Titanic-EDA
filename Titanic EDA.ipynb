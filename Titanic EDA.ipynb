{
 "cells": [
  {
   "cell_type": "markdown",
   "id": "2972fe8f",
   "metadata": {
    "papermill": {
     "duration": 0.011827,
     "end_time": "2022-10-30T07:09:31.722691",
     "exception": false,
     "start_time": "2022-10-30T07:09:31.710864",
     "status": "completed"
    },
    "tags": []
   },
   "source": [
    "# About dataset:\n",
    "The sinking of the Titanic is one of the most infamous shipwrecks in history.\n",
    "On April 15, 1912, during her maiden voyage, the widely considered “unsinkable” RMS Titanic sank after colliding with an iceberg. Unfortunately, there weren’t enough lifeboats for everyone onboard, resulting in the death of 1502 out of 2224 passengers and crew.\n",
    "While there was some element of luck involved in surviving, it seems some groups of people were more likely to survive than others."
   ]
  },
  {
   "cell_type": "code",
   "execution_count": 1,
   "id": "bdbd0ab6",
   "metadata": {
    "execution": {
     "iopub.execute_input": "2022-10-30T07:09:31.746042Z",
     "iopub.status.busy": "2022-10-30T07:09:31.745558Z",
     "iopub.status.idle": "2022-10-30T07:09:31.757017Z",
     "shell.execute_reply": "2022-10-30T07:09:31.755991Z"
    },
    "papermill": {
     "duration": 0.026719,
     "end_time": "2022-10-30T07:09:31.759988",
     "exception": false,
     "start_time": "2022-10-30T07:09:31.733269",
     "status": "completed"
    },
    "tags": []
   },
   "outputs": [],
   "source": [
    "#To ignore the warinings we import this module\n",
    "import warnings\n",
    "warnings.filterwarnings('ignore')"
   ]
  },
  {
   "cell_type": "code",
   "execution_count": 2,
   "id": "062f7826",
   "metadata": {
    "_cell_guid": "b1076dfc-b9ad-4769-8c92-a6c4dae69d19",
    "_uuid": "8f2839f25d086af736a60e9eeb907d3b93b6e0e5",
    "execution": {
     "iopub.execute_input": "2022-10-30T07:09:31.782994Z",
     "iopub.status.busy": "2022-10-30T07:09:31.782155Z",
     "iopub.status.idle": "2022-10-30T07:09:34.139578Z",
     "shell.execute_reply": "2022-10-30T07:09:34.138218Z"
    },
    "papermill": {
     "duration": 2.373632,
     "end_time": "2022-10-30T07:09:34.143851",
     "exception": false,
     "start_time": "2022-10-30T07:09:31.770219",
     "status": "completed"
    },
    "tags": []
   },
   "outputs": [
    {
     "name": "stdout",
     "output_type": "stream",
     "text": [
      "/kaggle/input/titanic-machine-learning-from-disaster/train.csv\n",
      "/kaggle/input/titanic-machine-learning-from-disaster/test.csv\n"
     ]
    }
   ],
   "source": [
    "# This Python 3 environment comes with many helpful analytics libraries installed\n",
    "# It is defined by the kaggle/python Docker image: https://github.com/kaggle/docker-python\n",
    "# For example, here's several helpful packages to load\n",
    "\n",
    "import numpy as np # linear algebra\n",
    "import pandas as pd # data processing, CSV file I/O (e.g. pd.read_csv)\n",
    "import seaborn as sns\n",
    "import matplotlib.pyplot as plt\n",
    "%matplotlib inline\n",
    "import plotly.express as px\n",
    "\n",
    "# Input data files are available in the read-only \"../input/\" directory\n",
    "# For example, running this (by clicking run or pressing Shift+Enter) will list all files under the input directory\n",
    "\n",
    "import os\n",
    "for dirname, _, filenames in os.walk('/kaggle/input'):\n",
    "    for filename in filenames:\n",
    "        print(os.path.join(dirname, filename))\n",
    "\n",
    "# You can write up to 20GB to the current directory (/kaggle/working/) that gets preserved as output when you create a version using \"Save & Run All\" \n",
    "# You can also write temporary files to /kaggle/temp/, but they won't be saved outside of the current session"
   ]
  },
  {
   "cell_type": "code",
   "execution_count": 3,
   "id": "3d7453bf",
   "metadata": {
    "execution": {
     "iopub.execute_input": "2022-10-30T07:09:34.170154Z",
     "iopub.status.busy": "2022-10-30T07:09:34.169366Z",
     "iopub.status.idle": "2022-10-30T07:09:34.213757Z",
     "shell.execute_reply": "2022-10-30T07:09:34.212353Z"
    },
    "papermill": {
     "duration": 0.059727,
     "end_time": "2022-10-30T07:09:34.216381",
     "exception": false,
     "start_time": "2022-10-30T07:09:34.156654",
     "status": "completed"
    },
    "tags": []
   },
   "outputs": [
    {
     "data": {
      "text/html": [
       "<div>\n",
       "<style scoped>\n",
       "    .dataframe tbody tr th:only-of-type {\n",
       "        vertical-align: middle;\n",
       "    }\n",
       "\n",
       "    .dataframe tbody tr th {\n",
       "        vertical-align: top;\n",
       "    }\n",
       "\n",
       "    .dataframe thead th {\n",
       "        text-align: right;\n",
       "    }\n",
       "</style>\n",
       "<table border=\"1\" class=\"dataframe\">\n",
       "  <thead>\n",
       "    <tr style=\"text-align: right;\">\n",
       "      <th></th>\n",
       "      <th>PassengerId</th>\n",
       "      <th>Survived</th>\n",
       "      <th>Pclass</th>\n",
       "      <th>Name</th>\n",
       "      <th>Sex</th>\n",
       "      <th>Age</th>\n",
       "      <th>SibSp</th>\n",
       "      <th>Parch</th>\n",
       "      <th>Ticket</th>\n",
       "      <th>Fare</th>\n",
       "      <th>Cabin</th>\n",
       "      <th>Embarked</th>\n",
       "    </tr>\n",
       "  </thead>\n",
       "  <tbody>\n",
       "    <tr>\n",
       "      <th>0</th>\n",
       "      <td>1</td>\n",
       "      <td>0</td>\n",
       "      <td>3</td>\n",
       "      <td>Braund, Mr. Owen Harris</td>\n",
       "      <td>male</td>\n",
       "      <td>22.0</td>\n",
       "      <td>1</td>\n",
       "      <td>0</td>\n",
       "      <td>A/5 21171</td>\n",
       "      <td>7.2500</td>\n",
       "      <td>NaN</td>\n",
       "      <td>S</td>\n",
       "    </tr>\n",
       "    <tr>\n",
       "      <th>1</th>\n",
       "      <td>2</td>\n",
       "      <td>1</td>\n",
       "      <td>1</td>\n",
       "      <td>Cumings, Mrs. John Bradley (Florence Briggs Th...</td>\n",
       "      <td>female</td>\n",
       "      <td>38.0</td>\n",
       "      <td>1</td>\n",
       "      <td>0</td>\n",
       "      <td>PC 17599</td>\n",
       "      <td>71.2833</td>\n",
       "      <td>C85</td>\n",
       "      <td>C</td>\n",
       "    </tr>\n",
       "    <tr>\n",
       "      <th>2</th>\n",
       "      <td>3</td>\n",
       "      <td>1</td>\n",
       "      <td>3</td>\n",
       "      <td>Heikkinen, Miss. Laina</td>\n",
       "      <td>female</td>\n",
       "      <td>26.0</td>\n",
       "      <td>0</td>\n",
       "      <td>0</td>\n",
       "      <td>STON/O2. 3101282</td>\n",
       "      <td>7.9250</td>\n",
       "      <td>NaN</td>\n",
       "      <td>S</td>\n",
       "    </tr>\n",
       "    <tr>\n",
       "      <th>3</th>\n",
       "      <td>4</td>\n",
       "      <td>1</td>\n",
       "      <td>1</td>\n",
       "      <td>Futrelle, Mrs. Jacques Heath (Lily May Peel)</td>\n",
       "      <td>female</td>\n",
       "      <td>35.0</td>\n",
       "      <td>1</td>\n",
       "      <td>0</td>\n",
       "      <td>113803</td>\n",
       "      <td>53.1000</td>\n",
       "      <td>C123</td>\n",
       "      <td>S</td>\n",
       "    </tr>\n",
       "    <tr>\n",
       "      <th>4</th>\n",
       "      <td>5</td>\n",
       "      <td>0</td>\n",
       "      <td>3</td>\n",
       "      <td>Allen, Mr. William Henry</td>\n",
       "      <td>male</td>\n",
       "      <td>35.0</td>\n",
       "      <td>0</td>\n",
       "      <td>0</td>\n",
       "      <td>373450</td>\n",
       "      <td>8.0500</td>\n",
       "      <td>NaN</td>\n",
       "      <td>S</td>\n",
       "    </tr>\n",
       "  </tbody>\n",
       "</table>\n",
       "</div>"
      ],
      "text/plain": [
       "   PassengerId  Survived  Pclass  \\\n",
       "0            1         0       3   \n",
       "1            2         1       1   \n",
       "2            3         1       3   \n",
       "3            4         1       1   \n",
       "4            5         0       3   \n",
       "\n",
       "                                                Name     Sex   Age  SibSp  \\\n",
       "0                            Braund, Mr. Owen Harris    male  22.0      1   \n",
       "1  Cumings, Mrs. John Bradley (Florence Briggs Th...  female  38.0      1   \n",
       "2                             Heikkinen, Miss. Laina  female  26.0      0   \n",
       "3       Futrelle, Mrs. Jacques Heath (Lily May Peel)  female  35.0      1   \n",
       "4                           Allen, Mr. William Henry    male  35.0      0   \n",
       "\n",
       "   Parch            Ticket     Fare Cabin Embarked  \n",
       "0      0         A/5 21171   7.2500   NaN        S  \n",
       "1      0          PC 17599  71.2833   C85        C  \n",
       "2      0  STON/O2. 3101282   7.9250   NaN        S  \n",
       "3      0            113803  53.1000  C123        S  \n",
       "4      0            373450   8.0500   NaN        S  "
      ]
     },
     "execution_count": 3,
     "metadata": {},
     "output_type": "execute_result"
    }
   ],
   "source": [
    "train=pd.read_csv('/kaggle/input/titanic-machine-learning-from-disaster/train.csv')\n",
    "train.head()"
   ]
  },
  {
   "cell_type": "code",
   "execution_count": 4,
   "id": "c3ff505c",
   "metadata": {
    "execution": {
     "iopub.execute_input": "2022-10-30T07:09:34.240363Z",
     "iopub.status.busy": "2022-10-30T07:09:34.239141Z",
     "iopub.status.idle": "2022-10-30T07:09:34.251605Z",
     "shell.execute_reply": "2022-10-30T07:09:34.250672Z"
    },
    "papermill": {
     "duration": 0.026779,
     "end_time": "2022-10-30T07:09:34.253920",
     "exception": false,
     "start_time": "2022-10-30T07:09:34.227141",
     "status": "completed"
    },
    "tags": []
   },
   "outputs": [],
   "source": [
    "#droping out unecessary column:\n",
    "train=train.drop([\"Name\",\"PassengerId\"],axis=1)"
   ]
  },
  {
   "cell_type": "code",
   "execution_count": 5,
   "id": "5091a944",
   "metadata": {
    "execution": {
     "iopub.execute_input": "2022-10-30T07:09:34.276867Z",
     "iopub.status.busy": "2022-10-30T07:09:34.276446Z",
     "iopub.status.idle": "2022-10-30T07:09:34.284506Z",
     "shell.execute_reply": "2022-10-30T07:09:34.283000Z"
    },
    "papermill": {
     "duration": 0.022717,
     "end_time": "2022-10-30T07:09:34.287285",
     "exception": false,
     "start_time": "2022-10-30T07:09:34.264568",
     "status": "completed"
    },
    "tags": []
   },
   "outputs": [],
   "source": [
    "#Renaming the columns:\n",
    "train.rename(columns={'SibSp':'Sibling','Pclass':'Class'},inplace=True)"
   ]
  },
  {
   "cell_type": "code",
   "execution_count": 6,
   "id": "fd6a331d",
   "metadata": {
    "execution": {
     "iopub.execute_input": "2022-10-30T07:09:34.310569Z",
     "iopub.status.busy": "2022-10-30T07:09:34.310126Z",
     "iopub.status.idle": "2022-10-30T07:09:34.333139Z",
     "shell.execute_reply": "2022-10-30T07:09:34.331382Z"
    },
    "papermill": {
     "duration": 0.03827,
     "end_time": "2022-10-30T07:09:34.336278",
     "exception": false,
     "start_time": "2022-10-30T07:09:34.298008",
     "status": "completed"
    },
    "tags": []
   },
   "outputs": [
    {
     "name": "stdout",
     "output_type": "stream",
     "text": [
      "<class 'pandas.core.frame.DataFrame'>\n",
      "RangeIndex: 891 entries, 0 to 890\n",
      "Data columns (total 10 columns):\n",
      " #   Column    Non-Null Count  Dtype  \n",
      "---  ------    --------------  -----  \n",
      " 0   Survived  891 non-null    int64  \n",
      " 1   Class     891 non-null    int64  \n",
      " 2   Sex       891 non-null    object \n",
      " 3   Age       714 non-null    float64\n",
      " 4   Sibling   891 non-null    int64  \n",
      " 5   Parch     891 non-null    int64  \n",
      " 6   Ticket    891 non-null    object \n",
      " 7   Fare      891 non-null    float64\n",
      " 8   Cabin     204 non-null    object \n",
      " 9   Embarked  889 non-null    object \n",
      "dtypes: float64(2), int64(4), object(4)\n",
      "memory usage: 69.7+ KB\n"
     ]
    }
   ],
   "source": [
    "train.info()"
   ]
  },
  {
   "cell_type": "code",
   "execution_count": 7,
   "id": "68bce718",
   "metadata": {
    "execution": {
     "iopub.execute_input": "2022-10-30T07:09:34.360554Z",
     "iopub.status.busy": "2022-10-30T07:09:34.359716Z",
     "iopub.status.idle": "2022-10-30T07:09:34.369039Z",
     "shell.execute_reply": "2022-10-30T07:09:34.367939Z"
    },
    "papermill": {
     "duration": 0.023983,
     "end_time": "2022-10-30T07:09:34.371550",
     "exception": false,
     "start_time": "2022-10-30T07:09:34.347567",
     "status": "completed"
    },
    "tags": []
   },
   "outputs": [
    {
     "data": {
      "text/plain": [
       "int64      4\n",
       "object     4\n",
       "float64    2\n",
       "dtype: int64"
      ]
     },
     "execution_count": 7,
     "metadata": {},
     "output_type": "execute_result"
    }
   ],
   "source": [
    "#Count types of data type\n",
    "train.dtypes.value_counts()"
   ]
  },
  {
   "cell_type": "code",
   "execution_count": 8,
   "id": "0c568ef0",
   "metadata": {
    "execution": {
     "iopub.execute_input": "2022-10-30T07:09:34.394445Z",
     "iopub.status.busy": "2022-10-30T07:09:34.394034Z",
     "iopub.status.idle": "2022-10-30T07:09:34.400864Z",
     "shell.execute_reply": "2022-10-30T07:09:34.399758Z"
    },
    "papermill": {
     "duration": 0.021063,
     "end_time": "2022-10-30T07:09:34.403395",
     "exception": false,
     "start_time": "2022-10-30T07:09:34.382332",
     "status": "completed"
    },
    "tags": []
   },
   "outputs": [
    {
     "data": {
      "text/plain": [
       "(891, 10)"
      ]
     },
     "execution_count": 8,
     "metadata": {},
     "output_type": "execute_result"
    }
   ],
   "source": [
    "#To check the number of rows and columns in dataset\n",
    "train.shape"
   ]
  },
  {
   "cell_type": "code",
   "execution_count": 9,
   "id": "90fa00e9",
   "metadata": {
    "execution": {
     "iopub.execute_input": "2022-10-30T07:09:34.426044Z",
     "iopub.status.busy": "2022-10-30T07:09:34.425576Z",
     "iopub.status.idle": "2022-10-30T07:09:34.432136Z",
     "shell.execute_reply": "2022-10-30T07:09:34.431240Z"
    },
    "papermill": {
     "duration": 0.020614,
     "end_time": "2022-10-30T07:09:34.434345",
     "exception": false,
     "start_time": "2022-10-30T07:09:34.413731",
     "status": "completed"
    },
    "tags": []
   },
   "outputs": [
    {
     "data": {
      "text/plain": [
       "Index(['Survived', 'Class', 'Sex', 'Age', 'Sibling', 'Parch', 'Ticket', 'Fare',\n",
       "       'Cabin', 'Embarked'],\n",
       "      dtype='object')"
      ]
     },
     "execution_count": 9,
     "metadata": {},
     "output_type": "execute_result"
    }
   ],
   "source": [
    "#Show the names of columns\n",
    "train.columns"
   ]
  },
  {
   "cell_type": "code",
   "execution_count": 10,
   "id": "e00adc53",
   "metadata": {
    "execution": {
     "iopub.execute_input": "2022-10-30T07:09:34.457260Z",
     "iopub.status.busy": "2022-10-30T07:09:34.456797Z",
     "iopub.status.idle": "2022-10-30T07:09:34.463321Z",
     "shell.execute_reply": "2022-10-30T07:09:34.462424Z"
    },
    "papermill": {
     "duration": 0.0207,
     "end_time": "2022-10-30T07:09:34.465492",
     "exception": false,
     "start_time": "2022-10-30T07:09:34.444792",
     "status": "completed"
    },
    "tags": []
   },
   "outputs": [
    {
     "data": {
      "text/plain": [
       "RangeIndex(start=0, stop=891, step=1)"
      ]
     },
     "execution_count": 10,
     "metadata": {},
     "output_type": "execute_result"
    }
   ],
   "source": [
    "#Show range of index\n",
    "train.index"
   ]
  },
  {
   "cell_type": "code",
   "execution_count": 11,
   "id": "4810165f",
   "metadata": {
    "execution": {
     "iopub.execute_input": "2022-10-30T07:09:34.489548Z",
     "iopub.status.busy": "2022-10-30T07:09:34.489176Z",
     "iopub.status.idle": "2022-10-30T07:09:34.978953Z",
     "shell.execute_reply": "2022-10-30T07:09:34.977675Z"
    },
    "papermill": {
     "duration": 0.504642,
     "end_time": "2022-10-30T07:09:34.981603",
     "exception": false,
     "start_time": "2022-10-30T07:09:34.476961",
     "status": "completed"
    },
    "tags": []
   },
   "outputs": [
    {
     "name": "stdout",
     "output_type": "stream",
     "text": [
      "Survived      0\n",
      "Class         0\n",
      "Sex           0\n",
      "Age         177\n",
      "Sibling       0\n",
      "Parch         0\n",
      "Ticket        0\n",
      "Fare          0\n",
      "Cabin       687\n",
      "Embarked      2\n",
      "dtype: int64\n"
     ]
    },
    {
     "data": {
      "text/plain": [
       "<AxesSubplot:>"
      ]
     },
     "execution_count": 11,
     "metadata": {},
     "output_type": "execute_result"
    },
    {
     "data": {
      "image/png": "[encoded data removed]",
      "text/plain": [
       "<Figure size 480x480 with 2 Axes>"
      ]
     },
     "metadata": {
      "needs_background": "light"
     },
     "output_type": "display_data"
    }
   ],
   "source": [
    "#To check null values in dataset\n",
    "print(train.isna().sum())\n",
    "plt.figure(figsize=(6,6),dpi=80)\n",
    "sns.heatmap(train.isnull())"
   ]
  },
  {
   "cell_type": "markdown",
   "id": "f1ac8503",
   "metadata": {
    "papermill": {
     "duration": 0.010861,
     "end_time": "2022-10-30T07:09:35.003929",
     "exception": false,
     "start_time": "2022-10-30T07:09:34.993068",
     "status": "completed"
    },
    "tags": []
   },
   "source": [
    "The heatmap indicates that there are null values in column age and cabin."
   ]
  },
  {
   "cell_type": "code",
   "execution_count": 12,
   "id": "e53f0d6e",
   "metadata": {
    "execution": {
     "iopub.execute_input": "2022-10-30T07:09:35.028690Z",
     "iopub.status.busy": "2022-10-30T07:09:35.028177Z",
     "iopub.status.idle": "2022-10-30T07:09:35.040671Z",
     "shell.execute_reply": "2022-10-30T07:09:35.039141Z"
    },
    "papermill": {
     "duration": 0.028201,
     "end_time": "2022-10-30T07:09:35.043345",
     "exception": false,
     "start_time": "2022-10-30T07:09:35.015144",
     "status": "completed"
    },
    "tags": []
   },
   "outputs": [
    {
     "data": {
      "text/plain": [
       "866"
      ]
     },
     "execution_count": 12,
     "metadata": {},
     "output_type": "execute_result"
    }
   ],
   "source": [
    "#Total null values present in dataset\n",
    "train.isna().sum().sum()"
   ]
  },
  {
   "cell_type": "code",
   "execution_count": 13,
   "id": "2c841895",
   "metadata": {
    "execution": {
     "iopub.execute_input": "2022-10-30T07:09:35.073738Z",
     "iopub.status.busy": "2022-10-30T07:09:35.072920Z",
     "iopub.status.idle": "2022-10-30T07:09:35.088533Z",
     "shell.execute_reply": "2022-10-30T07:09:35.086974Z"
    },
    "papermill": {
     "duration": 0.034688,
     "end_time": "2022-10-30T07:09:35.091658",
     "exception": false,
     "start_time": "2022-10-30T07:09:35.056970",
     "status": "completed"
    },
    "tags": []
   },
   "outputs": [
    {
     "data": {
      "text/plain": [
       "15"
      ]
     },
     "execution_count": 13,
     "metadata": {},
     "output_type": "execute_result"
    }
   ],
   "source": [
    "#To check the duplicates in dataset\n",
    "train.duplicated().sum()"
   ]
  },
  {
   "cell_type": "code",
   "execution_count": 14,
   "id": "a9946d87",
   "metadata": {
    "execution": {
     "iopub.execute_input": "2022-10-30T07:09:35.122291Z",
     "iopub.status.busy": "2022-10-30T07:09:35.121509Z",
     "iopub.status.idle": "2022-10-30T07:09:35.154430Z",
     "shell.execute_reply": "2022-10-30T07:09:35.153076Z"
    },
    "papermill": {
     "duration": 0.050321,
     "end_time": "2022-10-30T07:09:35.156997",
     "exception": false,
     "start_time": "2022-10-30T07:09:35.106676",
     "status": "completed"
    },
    "tags": []
   },
   "outputs": [
    {
     "data": {
      "text/html": [
       "<div>\n",
       "<style scoped>\n",
       "    .dataframe tbody tr th:only-of-type {\n",
       "        vertical-align: middle;\n",
       "    }\n",
       "\n",
       "    .dataframe tbody tr th {\n",
       "        vertical-align: top;\n",
       "    }\n",
       "\n",
       "    .dataframe thead th {\n",
       "        text-align: right;\n",
       "    }\n",
       "</style>\n",
       "<table border=\"1\" class=\"dataframe\">\n",
       "  <thead>\n",
       "    <tr style=\"text-align: right;\">\n",
       "      <th></th>\n",
       "      <th>Survived</th>\n",
       "      <th>Class</th>\n",
       "      <th>Age</th>\n",
       "      <th>Sibling</th>\n",
       "      <th>Parch</th>\n",
       "      <th>Fare</th>\n",
       "    </tr>\n",
       "  </thead>\n",
       "  <tbody>\n",
       "    <tr>\n",
       "      <th>count</th>\n",
       "      <td>891.000000</td>\n",
       "      <td>891.000000</td>\n",
       "      <td>714.000000</td>\n",
       "      <td>891.000000</td>\n",
       "      <td>891.000000</td>\n",
       "      <td>891.000000</td>\n",
       "    </tr>\n",
       "    <tr>\n",
       "      <th>mean</th>\n",
       "      <td>0.383838</td>\n",
       "      <td>2.308642</td>\n",
       "      <td>29.699118</td>\n",
       "      <td>0.523008</td>\n",
       "      <td>0.381594</td>\n",
       "      <td>32.204208</td>\n",
       "    </tr>\n",
       "    <tr>\n",
       "      <th>std</th>\n",
       "      <td>0.486592</td>\n",
       "      <td>0.836071</td>\n",
       "      <td>14.526497</td>\n",
       "      <td>1.102743</td>\n",
       "      <td>0.806057</td>\n",
       "      <td>49.693429</td>\n",
       "    </tr>\n",
       "    <tr>\n",
       "      <th>min</th>\n",
       "      <td>0.000000</td>\n",
       "      <td>1.000000</td>\n",
       "      <td>0.420000</td>\n",
       "      <td>0.000000</td>\n",
       "      <td>0.000000</td>\n",
       "      <td>0.000000</td>\n",
       "    </tr>\n",
       "    <tr>\n",
       "      <th>25%</th>\n",
       "      <td>0.000000</td>\n",
       "      <td>2.000000</td>\n",
       "      <td>20.125000</td>\n",
       "      <td>0.000000</td>\n",
       "      <td>0.000000</td>\n",
       "      <td>7.910400</td>\n",
       "    </tr>\n",
       "    <tr>\n",
       "      <th>50%</th>\n",
       "      <td>0.000000</td>\n",
       "      <td>3.000000</td>\n",
       "      <td>28.000000</td>\n",
       "      <td>0.000000</td>\n",
       "      <td>0.000000</td>\n",
       "      <td>14.454200</td>\n",
       "    </tr>\n",
       "    <tr>\n",
       "      <th>75%</th>\n",
       "      <td>1.000000</td>\n",
       "      <td>3.000000</td>\n",
       "      <td>38.000000</td>\n",
       "      <td>1.000000</td>\n",
       "      <td>0.000000</td>\n",
       "      <td>31.000000</td>\n",
       "    </tr>\n",
       "    <tr>\n",
       "      <th>max</th>\n",
       "      <td>1.000000</td>\n",
       "      <td>3.000000</td>\n",
       "      <td>80.000000</td>\n",
       "      <td>8.000000</td>\n",
       "      <td>6.000000</td>\n",
       "      <td>512.329200</td>\n",
       "    </tr>\n",
       "  </tbody>\n",
       "</table>\n",
       "</div>"
      ],
      "text/plain": [
       "         Survived       Class         Age     Sibling       Parch        Fare\n",
       "count  891.000000  891.000000  714.000000  891.000000  891.000000  891.000000\n",
       "mean     0.383838    2.308642   29.699118    0.523008    0.381594   32.204208\n",
       "std      0.486592    0.836071   14.526497    1.102743    0.806057   49.693429\n",
       "min      0.000000    1.000000    0.420000    0.000000    0.000000    0.000000\n",
       "25%      0.000000    2.000000   20.125000    0.000000    0.000000    7.910400\n",
       "50%      0.000000    3.000000   28.000000    0.000000    0.000000   14.454200\n",
       "75%      1.000000    3.000000   38.000000    1.000000    0.000000   31.000000\n",
       "max      1.000000    3.000000   80.000000    8.000000    6.000000  512.329200"
      ]
     },
     "execution_count": 14,
     "metadata": {},
     "output_type": "execute_result"
    }
   ],
   "source": [
    "train.describe()"
   ]
  },
  {
   "cell_type": "code",
   "execution_count": 15,
   "id": "279749fc",
   "metadata": {
    "execution": {
     "iopub.execute_input": "2022-10-30T07:09:35.182780Z",
     "iopub.status.busy": "2022-10-30T07:09:35.181729Z",
     "iopub.status.idle": "2022-10-30T07:09:35.304225Z",
     "shell.execute_reply": "2022-10-30T07:09:35.302967Z"
    },
    "papermill": {
     "duration": 0.138789,
     "end_time": "2022-10-30T07:09:35.307633",
     "exception": false,
     "start_time": "2022-10-30T07:09:35.168844",
     "status": "completed"
    },
    "tags": []
   },
   "outputs": [
    {
     "data": {
      "image/png": "[encoded data removed]",
      "text/plain": [
       "<Figure size 320x320 with 1 Axes>"
      ]
     },
     "metadata": {
      "needs_background": "light"
     },
     "output_type": "display_data"
    }
   ],
   "source": [
    "plt.figure(figsize=(4,4),dpi=80)\n",
    "plt.title('M/F count plot')\n",
    "sns.countplot(x='Sex',palette='rocket',data=train)\n",
    "plt.show()"
   ]
  },
  {
   "cell_type": "markdown",
   "id": "c0f2c009",
   "metadata": {
    "papermill": {
     "duration": 0.014387,
     "end_time": "2022-10-30T07:09:35.341184",
     "exception": false,
     "start_time": "2022-10-30T07:09:35.326797",
     "status": "completed"
    },
    "tags": []
   },
   "source": [
    "The graph shows that male population is more than female on ship."
   ]
  },
  {
   "cell_type": "code",
   "execution_count": 16,
   "id": "f8c4e4b9",
   "metadata": {
    "execution": {
     "iopub.execute_input": "2022-10-30T07:09:35.367548Z",
     "iopub.status.busy": "2022-10-30T07:09:35.366815Z",
     "iopub.status.idle": "2022-10-30T07:09:35.728676Z",
     "shell.execute_reply": "2022-10-30T07:09:35.727613Z"
    },
    "papermill": {
     "duration": 0.378126,
     "end_time": "2022-10-30T07:09:35.731137",
     "exception": false,
     "start_time": "2022-10-30T07:09:35.353011",
     "status": "completed"
    },
    "tags": []
   },
   "outputs": [
    {
     "data": {
      "image/png": "[encoded data removed]",
      "text/plain": [
       "<Figure size 800x400 with 2 Axes>"
      ]
     },
     "metadata": {
      "needs_background": "light"
     },
     "output_type": "display_data"
    }
   ],
   "source": [
    "plt.figure(figsize=(10,5),dpi=80)\n",
    "plt.subplot(1,2,1)\n",
    "plt.title('Embarked')\n",
    "sns.countplot(x='Sex',palette='rocket',data=train,hue='Embarked')\n",
    "\n",
    "plt.subplot(1,2,2)\n",
    "plt.title('Class')\n",
    "sns.countplot(x='Sex',palette='rocket',data=train,hue='Class')\n",
    "\n",
    "plt.tight_layout()\n",
    "plt.show()"
   ]
  },
  {
   "cell_type": "markdown",
   "id": "6002288d",
   "metadata": {
    "papermill": {
     "duration": 0.011998,
     "end_time": "2022-10-30T07:09:35.755816",
     "exception": false,
     "start_time": "2022-10-30T07:09:35.743818",
     "status": "completed"
    },
    "tags": []
   },
   "source": [
    "* In Embarked graph male and female'S'category highest population and lowest is 'Q' category\n",
    "* In Class graph male and female calss 3 is higher"
   ]
  },
  {
   "cell_type": "code",
   "execution_count": 17,
   "id": "e1df2fbf",
   "metadata": {
    "execution": {
     "iopub.execute_input": "2022-10-30T07:09:35.782556Z",
     "iopub.status.busy": "2022-10-30T07:09:35.781612Z",
     "iopub.status.idle": "2022-10-30T07:09:36.142669Z",
     "shell.execute_reply": "2022-10-30T07:09:36.141567Z"
    },
    "papermill": {
     "duration": 0.376826,
     "end_time": "2022-10-30T07:09:36.145193",
     "exception": false,
     "start_time": "2022-10-30T07:09:35.768367",
     "status": "completed"
    },
    "tags": []
   },
   "outputs": [
    {
     "data": {
      "image/png": "[encoded data removed]",
      "text/plain": [
       "<Figure size 800x400 with 2 Axes>"
      ]
     },
     "metadata": {
      "needs_background": "light"
     },
     "output_type": "display_data"
    }
   ],
   "source": [
    "plt.figure(figsize=(10,5),dpi=80)\n",
    "plt.subplot(1,2,1)\n",
    "plt.title('Embarked')\n",
    "sns.countplot(x='Embarked',palette='coolwarm',data=train,hue='Sex')\n",
    "\n",
    "plt.subplot(1,2,2)\n",
    "plt.title('Class')\n",
    "sns.countplot(x='Class',palette='coolwarm',data=train,hue='Sex')\n",
    "\n",
    "plt.tight_layout()\n",
    "plt.show()"
   ]
  },
  {
   "cell_type": "code",
   "execution_count": 18,
   "id": "33b49d53",
   "metadata": {
    "execution": {
     "iopub.execute_input": "2022-10-30T07:09:36.171883Z",
     "iopub.status.busy": "2022-10-30T07:09:36.171476Z",
     "iopub.status.idle": "2022-10-30T07:09:36.190168Z",
     "shell.execute_reply": "2022-10-30T07:09:36.189101Z"
    },
    "papermill": {
     "duration": 0.035478,
     "end_time": "2022-10-30T07:09:36.193202",
     "exception": false,
     "start_time": "2022-10-30T07:09:36.157724",
     "status": "completed"
    },
    "tags": []
   },
   "outputs": [
    {
     "name": "stdout",
     "output_type": "stream",
     "text": [
      "Index(['Survived', 'Class', 'Sex', 'Age', 'Sibling', 'Parch', 'Ticket', 'Fare',\n",
      "       'Cabin', 'Embarked', 'Person'],\n",
      "      dtype='object')\n"
     ]
    }
   ],
   "source": [
    "def male_female_child(passenger):\n",
    "    age,sex=passenger\n",
    "    if age<16:\n",
    "        return 'child'\n",
    "    else:\n",
    "        return sex\n",
    "    \n",
    "train['Person']=train[['Age','Sex']].apply(male_female_child,axis=1)\n",
    "print(train.columns)"
   ]
  },
  {
   "cell_type": "code",
   "execution_count": 19,
   "id": "5e9b49f3",
   "metadata": {
    "execution": {
     "iopub.execute_input": "2022-10-30T07:09:36.221121Z",
     "iopub.status.busy": "2022-10-30T07:09:36.220730Z",
     "iopub.status.idle": "2022-10-30T07:09:36.715939Z",
     "shell.execute_reply": "2022-10-30T07:09:36.714759Z"
    },
    "papermill": {
     "duration": 0.511366,
     "end_time": "2022-10-30T07:09:36.718213",
     "exception": false,
     "start_time": "2022-10-30T07:09:36.206847",
     "status": "completed"
    },
    "tags": []
   },
   "outputs": [
    {
     "data": {
      "image/png": "[encoded data removed]",
      "text/plain": [
       "<Figure size 800x400 with 2 Axes>"
      ]
     },
     "metadata": {
      "needs_background": "light"
     },
     "output_type": "display_data"
    }
   ],
   "source": [
    "plt.figure(figsize=(10,5),dpi=80)\n",
    "ax=plt.subplot(1,2,1)\n",
    "sns.countplot(x='Person',data=train,palette='viridis')\n",
    "ax.set_xlabel('Person', fontsize=13)\n",
    "ax.set_ylabel('Count', fontsize=13)\n",
    "\n",
    "ax=plt.subplot(1,2,2)\n",
    "sns.countplot(x='Class',hue='Person',data=train,palette='viridis')\n",
    "ax.set_xlabel('Class', fontsize=13)\n",
    "ax.set_ylabel('Count', fontsize=13)\n",
    "\n",
    "plt.tight_layout()\n",
    "plt.show()"
   ]
  },
  {
   "cell_type": "markdown",
   "id": "78aa7f4f",
   "metadata": {
    "papermill": {
     "duration": 0.012552,
     "end_time": "2022-10-30T07:09:36.743987",
     "exception": false,
     "start_time": "2022-10-30T07:09:36.731435",
     "status": "completed"
    },
    "tags": []
   },
   "source": [
    "The graph shows that male > children"
   ]
  },
  {
   "cell_type": "code",
   "execution_count": 20,
   "id": "13624e9d",
   "metadata": {
    "execution": {
     "iopub.execute_input": "2022-10-30T07:09:36.771725Z",
     "iopub.status.busy": "2022-10-30T07:09:36.771114Z",
     "iopub.status.idle": "2022-10-30T07:09:36.890203Z",
     "shell.execute_reply": "2022-10-30T07:09:36.888729Z"
    },
    "papermill": {
     "duration": 0.137307,
     "end_time": "2022-10-30T07:09:36.894022",
     "exception": false,
     "start_time": "2022-10-30T07:09:36.756715",
     "status": "completed"
    },
    "tags": []
   },
   "outputs": [
    {
     "data": {
      "image/png": "[encoded data removed]",
      "text/plain": [
       "<Figure size 500x500 with 1 Axes>"
      ]
     },
     "metadata": {},
     "output_type": "display_data"
    }
   ],
   "source": [
    "#visualizing the person count\n",
    "a=train['Person'].value_counts()\n",
    "plt.figure(figsize=(5,5),dpi=100)\n",
    "palette_color=sns.color_palette('bright')\n",
    "plt.pie(a, colors=palette_color,labels=a.index,radius=0.9,autopct='%.0f%%')\n",
    "plt.show()"
   ]
  },
  {
   "cell_type": "code",
   "execution_count": 21,
   "id": "4f9fbcbd",
   "metadata": {
    "execution": {
     "iopub.execute_input": "2022-10-30T07:09:36.942094Z",
     "iopub.status.busy": "2022-10-30T07:09:36.940102Z",
     "iopub.status.idle": "2022-10-30T07:09:37.191562Z",
     "shell.execute_reply": "2022-10-30T07:09:37.189994Z"
    },
    "papermill": {
     "duration": 0.278157,
     "end_time": "2022-10-30T07:09:37.194485",
     "exception": false,
     "start_time": "2022-10-30T07:09:36.916328",
     "status": "completed"
    },
    "tags": []
   },
   "outputs": [
    {
     "data": {
      "image/png": "[encoded data removed]",
      "text/plain": [
       "<Figure size 640x400 with 1 Axes>"
      ]
     },
     "metadata": {
      "needs_background": "light"
     },
     "output_type": "display_data"
    }
   ],
   "source": [
    "#Visualizing the age column\n",
    "plt.figure(figsize=(8,5),dpi=80)\n",
    "plt.title('Age')\n",
    "sns.distplot(train['Age'],bins = 15)\n",
    "plt.show()"
   ]
  },
  {
   "cell_type": "markdown",
   "id": "aaee329c",
   "metadata": {
    "papermill": {
     "duration": 0.013655,
     "end_time": "2022-10-30T07:09:37.222640",
     "exception": false,
     "start_time": "2022-10-30T07:09:37.208985",
     "status": "completed"
    },
    "tags": []
   },
   "source": [
    "Graph indicates that people traveling on ship are of age 20-30"
   ]
  },
  {
   "cell_type": "code",
   "execution_count": 22,
   "id": "0d3212fe",
   "metadata": {
    "execution": {
     "iopub.execute_input": "2022-10-30T07:09:37.252016Z",
     "iopub.status.busy": "2022-10-30T07:09:37.251615Z",
     "iopub.status.idle": "2022-10-30T07:09:37.710721Z",
     "shell.execute_reply": "2022-10-30T07:09:37.709599Z"
    },
    "papermill": {
     "duration": 0.476312,
     "end_time": "2022-10-30T07:09:37.712866",
     "exception": false,
     "start_time": "2022-10-30T07:09:37.236554",
     "status": "completed"
    },
    "tags": []
   },
   "outputs": [
    {
     "data": {
      "image/png": "[encoded data removed]",
      "text/plain": [
       "<Figure size 640x400 with 3 Axes>"
      ]
     },
     "metadata": {
      "needs_background": "light"
     },
     "output_type": "display_data"
    }
   ],
   "source": [
    "plt.figure(figsize=(8,5),dpi=80)\n",
    "plt.subplot(2,2,1)\n",
    "sns.countplot(x='Embarked',data=train,hue='Class',order=['C','Q','S'],palette='autumn')\n",
    "\n",
    "plt.subplot(2,2,2)\n",
    "sns.countplot(x='Embarked',data=train,hue='Sex',order=['C','Q','S'],palette='autumn')\n",
    "\n",
    "plt.subplot(2,2,3)\n",
    "sns.countplot(x='Embarked',data=train,hue='Survived',order=['C','Q','S'],palette='autumn')\n",
    "\n",
    "plt.tight_layout()\n",
    "plt.show()"
   ]
  },
  {
   "cell_type": "markdown",
   "id": "c0048756",
   "metadata": {
    "papermill": {
     "duration": 0.014283,
     "end_time": "2022-10-30T07:09:37.741697",
     "exception": false,
     "start_time": "2022-10-30T07:09:37.727414",
     "status": "completed"
    },
    "tags": []
   },
   "source": [
    "**Graph1:**\n",
    "* From 'S' there are higher number of class 1 people on ship.\n",
    "* From 'Q' there are smaller number op passengers traveling from all the classes.\n",
    "* Class 3 passengers belonging from 'S' are higher amount of passenger travelling on ship.\n",
    "\n",
    "**Graph2:**\n",
    "* Male and female both belonging from 'S' are more in number.\n",
    "\n",
    "**Graph3:**\n",
    "* 0->not survived\n",
    "* 1->survived\n",
    "* More amount of people survived from 'S' and viceversa from 'Q'.\n",
    "\n"
   ]
  },
  {
   "cell_type": "code",
   "execution_count": 23,
   "id": "862ea37f",
   "metadata": {
    "execution": {
     "iopub.execute_input": "2022-10-30T07:09:37.772009Z",
     "iopub.status.busy": "2022-10-30T07:09:37.771566Z",
     "iopub.status.idle": "2022-10-30T07:09:37.780695Z",
     "shell.execute_reply": "2022-10-30T07:09:37.779281Z"
    },
    "papermill": {
     "duration": 0.027048,
     "end_time": "2022-10-30T07:09:37.783205",
     "exception": false,
     "start_time": "2022-10-30T07:09:37.756157",
     "status": "completed"
    },
    "tags": []
   },
   "outputs": [],
   "source": [
    "#Passenger travelling alone/with family\n",
    "train['Alone']=train['Sibling'] + train['Parch']\n",
    "def alones(values):\n",
    "    if values == 0:\n",
    "        return('alone')\n",
    "    else:\n",
    "        return('with family')\n",
    "    \n",
    "train['Alone']=train['Alone'].apply(alones)"
   ]
  },
  {
   "cell_type": "code",
   "execution_count": 24,
   "id": "fa405b35",
   "metadata": {
    "execution": {
     "iopub.execute_input": "2022-10-30T07:09:37.814046Z",
     "iopub.status.busy": "2022-10-30T07:09:37.812923Z",
     "iopub.status.idle": "2022-10-30T07:09:37.969154Z",
     "shell.execute_reply": "2022-10-30T07:09:37.967779Z"
    },
    "papermill": {
     "duration": 0.174072,
     "end_time": "2022-10-30T07:09:37.971772",
     "exception": false,
     "start_time": "2022-10-30T07:09:37.797700",
     "status": "completed"
    },
    "tags": []
   },
   "outputs": [
    {
     "data": {
      "image/png": "[encoded data removed]",
      "text/plain": [
       "<Figure size 400x400 with 1 Axes>"
      ]
     },
     "metadata": {
      "needs_background": "light"
     },
     "output_type": "display_data"
    }
   ],
   "source": [
    "plt.figure(figsize=(5,5),dpi=80)\n",
    "sns.countplot(x='Alone',data=train,palette='winter')\n",
    "plt.show()"
   ]
  },
  {
   "cell_type": "markdown",
   "id": "97f2d76b",
   "metadata": {
    "papermill": {
     "duration": 0.014257,
     "end_time": "2022-10-30T07:09:38.000737",
     "exception": false,
     "start_time": "2022-10-30T07:09:37.986480",
     "status": "completed"
    },
    "tags": []
   },
   "source": [
    "Passengers travelling alone are 500 whereas travelling with family are about 380"
   ]
  },
  {
   "cell_type": "code",
   "execution_count": 25,
   "id": "2eceb92b",
   "metadata": {
    "execution": {
     "iopub.execute_input": "2022-10-30T07:09:38.032668Z",
     "iopub.status.busy": "2022-10-30T07:09:38.031931Z",
     "iopub.status.idle": "2022-10-30T07:09:38.140818Z",
     "shell.execute_reply": "2022-10-30T07:09:38.139547Z"
    },
    "papermill": {
     "duration": 0.128693,
     "end_time": "2022-10-30T07:09:38.144174",
     "exception": false,
     "start_time": "2022-10-30T07:09:38.015481",
     "status": "completed"
    },
    "tags": []
   },
   "outputs": [
    {
     "data": {
      "image/png": "[encoded data removed]",
      "text/plain": [
       "<Figure size 500x500 with 1 Axes>"
      ]
     },
     "metadata": {},
     "output_type": "display_data"
    }
   ],
   "source": [
    "#Passengers survived or not\n",
    "plt.figure(figsize=(5,5),dpi=100)\n",
    "train['Survivior']=train['Survived'].map({0:'No',1:'Yes'})\n",
    "b=train['Survivior'].value_counts()\n",
    "plt.pie(b, colors=palette_color,labels=b.index,radius=0.9,autopct='%.0f%%')\n",
    "plt.show()"
   ]
  },
  {
   "cell_type": "markdown",
   "id": "710027fe",
   "metadata": {
    "papermill": {
     "duration": 0.023899,
     "end_time": "2022-10-30T07:09:38.192585",
     "exception": false,
     "start_time": "2022-10-30T07:09:38.168686",
     "status": "completed"
    },
    "tags": []
   },
   "source": [
    "Most of the passengers travelling on the ship didn't survived about 38% of total passenger are able survived."
   ]
  },
  {
   "cell_type": "code",
   "execution_count": 26,
   "id": "44a5bbfc",
   "metadata": {
    "execution": {
     "iopub.execute_input": "2022-10-30T07:09:38.236870Z",
     "iopub.status.busy": "2022-10-30T07:09:38.236491Z",
     "iopub.status.idle": "2022-10-30T07:09:38.883529Z",
     "shell.execute_reply": "2022-10-30T07:09:38.882412Z"
    },
    "papermill": {
     "duration": 0.66902,
     "end_time": "2022-10-30T07:09:38.886145",
     "exception": false,
     "start_time": "2022-10-30T07:09:38.217125",
     "status": "completed"
    },
    "tags": []
   },
   "outputs": [
    {
     "data": {
      "text/plain": [
       "<Figure size 400x400 with 0 Axes>"
      ]
     },
     "metadata": {},
     "output_type": "display_data"
    },
    {
     "data": {
      "image/png": "[encoded data removed]",
      "text/plain": [
       "<Figure size 430.5x360 with 1 Axes>"
      ]
     },
     "metadata": {
      "needs_background": "light"
     },
     "output_type": "display_data"
    }
   ],
   "source": [
    "#Survival of passenger gender wise\n",
    "plt.figure(figsize=(5,5),dpi=80)\n",
    "sns.factorplot(x='Class',y='Survived',data=train,hue='Person')\n",
    "plt.show()"
   ]
  },
  {
   "cell_type": "markdown",
   "id": "439690e2",
   "metadata": {
    "papermill": {
     "duration": 0.017,
     "end_time": "2022-10-30T07:09:38.918374",
     "exception": false,
     "start_time": "2022-10-30T07:09:38.901374",
     "status": "completed"
    },
    "tags": []
   },
   "source": [
    "Male are definately not from survival because from any of classes dramatically decreases the chances of survival."
   ]
  },
  {
   "cell_type": "code",
   "execution_count": 27,
   "id": "6e14ab74",
   "metadata": {
    "execution": {
     "iopub.execute_input": "2022-10-30T07:09:38.950768Z",
     "iopub.status.busy": "2022-10-30T07:09:38.950369Z",
     "iopub.status.idle": "2022-10-30T07:09:39.123258Z",
     "shell.execute_reply": "2022-10-30T07:09:39.122077Z"
    },
    "papermill": {
     "duration": 0.192499,
     "end_time": "2022-10-30T07:09:39.125974",
     "exception": false,
     "start_time": "2022-10-30T07:09:38.933475",
     "status": "completed"
    },
    "tags": []
   },
   "outputs": [
    {
     "data": {
      "image/png": "[encoded data removed]",
      "text/plain": [
       "<Figure size 640x400 with 1 Axes>"
      ]
     },
     "metadata": {
      "needs_background": "light"
     },
     "output_type": "display_data"
    }
   ],
   "source": [
    "#Visualizing the fare column\n",
    "plt.figure(figsize=(8,5),dpi=80)\n",
    "plt.title('Fare')\n",
    "sns.kdeplot(train['Fare'])\n",
    "plt.show()"
   ]
  },
  {
   "cell_type": "markdown",
   "id": "eb6ffd79",
   "metadata": {
    "papermill": {
     "duration": 0.015435,
     "end_time": "2022-10-30T07:09:39.157178",
     "exception": false,
     "start_time": "2022-10-30T07:09:39.141743",
     "status": "completed"
    },
    "tags": []
   },
   "source": [
    "Ticket fare for passengers travelling costs upto 500 and maximum ticket fare purchased by the passengers ranges upto 5-50 ."
   ]
  },
  {
   "cell_type": "code",
   "execution_count": 28,
   "id": "3cc2c8be",
   "metadata": {
    "execution": {
     "iopub.execute_input": "2022-10-30T07:09:39.192298Z",
     "iopub.status.busy": "2022-10-30T07:09:39.191151Z",
     "iopub.status.idle": "2022-10-30T07:09:39.345742Z",
     "shell.execute_reply": "2022-10-30T07:09:39.344645Z"
    },
    "papermill": {
     "duration": 0.175043,
     "end_time": "2022-10-30T07:09:39.348734",
     "exception": false,
     "start_time": "2022-10-30T07:09:39.173691",
     "status": "completed"
    },
    "tags": []
   },
   "outputs": [
    {
     "data": {
      "image/png": "[encoded data removed]",
      "text/plain": [
       "<Figure size 400x400 with 1 Axes>"
      ]
     },
     "metadata": {
      "needs_background": "light"
     },
     "output_type": "display_data"
    }
   ],
   "source": [
    "#Count of passenger having parent or children\n",
    "plt.figure(figsize=(5,5),dpi=80)\n",
    "sns.countplot(x='Parch',data=train,palette='RdPu',saturation=1)\n",
    "plt.title('Parent childern')\n",
    "plt.show()"
   ]
  },
  {
   "cell_type": "markdown",
   "id": "510da5f7",
   "metadata": {
    "papermill": {
     "duration": 0.015469,
     "end_time": "2022-10-30T07:09:39.382099",
     "exception": false,
     "start_time": "2022-10-30T07:09:39.366630",
     "status": "completed"
    },
    "tags": []
   },
   "source": [
    "Maximum passengers do not have any parent and children but those passengers have parent childer are greater in range between 1-2 and and goes upto 6."
   ]
  },
  {
   "cell_type": "code",
   "execution_count": 29,
   "id": "5d95f707",
   "metadata": {
    "execution": {
     "iopub.execute_input": "2022-10-30T07:09:39.416121Z",
     "iopub.status.busy": "2022-10-30T07:09:39.415087Z",
     "iopub.status.idle": "2022-10-30T07:09:39.523948Z",
     "shell.execute_reply": "2022-10-30T07:09:39.522780Z"
    },
    "papermill": {
     "duration": 0.129277,
     "end_time": "2022-10-30T07:09:39.527417",
     "exception": false,
     "start_time": "2022-10-30T07:09:39.398140",
     "status": "completed"
    },
    "tags": []
   },
   "outputs": [
    {
     "data": {
      "image/png": "[encoded data removed]",
      "text/plain": [
       "<Figure size 500x500 with 1 Axes>"
      ]
     },
     "metadata": {},
     "output_type": "display_data"
    }
   ],
   "source": [
    "#Passengers survived or not\n",
    "plt.figure(figsize=(5,5),dpi=100)\n",
    "c=train['Class'].value_counts()\n",
    "plt.title('Class type count')\n",
    "plt.pie(c, colors=palette_color,labels=c.index,radius=0.9,autopct='%.0f%%')\n",
    "plt.show()"
   ]
  },
  {
   "cell_type": "markdown",
   "id": "c4b1ca44",
   "metadata": {
    "papermill": {
     "duration": 0.026147,
     "end_time": "2022-10-30T07:09:39.580667",
     "exception": false,
     "start_time": "2022-10-30T07:09:39.554520",
     "status": "completed"
    },
    "tags": []
   },
   "source": [
    "Passenger travelling on ship maximum belong from 3rd class and their count is 55% whereas as passengers travelling from 1st class with count of 24% of total passengers."
   ]
  },
  {
   "cell_type": "code",
   "execution_count": 30,
   "id": "82d1472e",
   "metadata": {
    "execution": {
     "iopub.execute_input": "2022-10-30T07:09:39.621106Z",
     "iopub.status.busy": "2022-10-30T07:09:39.620102Z",
     "iopub.status.idle": "2022-10-30T07:09:39.996398Z",
     "shell.execute_reply": "2022-10-30T07:09:39.995247Z"
    },
    "papermill": {
     "duration": 0.396284,
     "end_time": "2022-10-30T07:09:39.999054",
     "exception": false,
     "start_time": "2022-10-30T07:09:39.602770",
     "status": "completed"
    },
    "tags": []
   },
   "outputs": [
    {
     "data": {
      "image/png": "[encoded data removed]",
      "text/plain": [
       "<Figure size 400x400 with 1 Axes>"
      ]
     },
     "metadata": {
      "needs_background": "light"
     },
     "output_type": "display_data"
    }
   ],
   "source": [
    "plt.figure(figsize=(5,5),dpi=80)\n",
    "plt.title('Sibling vs Surived data')\n",
    "sns.barplot(x='Sibling',y='Survived',data=train,palette='Spectral',saturation=1)\n",
    "plt.show()"
   ]
  },
  {
   "cell_type": "markdown",
   "id": "94574a99",
   "metadata": {
    "papermill": {
     "duration": 0.016225,
     "end_time": "2022-10-30T07:09:40.031986",
     "exception": false,
     "start_time": "2022-10-30T07:09:40.015761",
     "status": "completed"
    },
    "tags": []
   },
   "source": [
    "According to graph passengers whoes having 1 sibling have survived."
   ]
  },
  {
   "cell_type": "markdown",
   "id": "bab49b97",
   "metadata": {
    "papermill": {
     "duration": 0.016185,
     "end_time": "2022-10-30T07:09:40.064788",
     "exception": false,
     "start_time": "2022-10-30T07:09:40.048603",
     "status": "completed"
    },
    "tags": []
   },
   "source": [
    "# **Thankyou....**"
   ]
  }
 ],
 "metadata": {
  "kernelspec": {
   "display_name": "Python 3",
   "language": "python",
   "name": "python3"
  },
  "language_info": {
   "codemirror_mode": {
    "name": "ipython",
    "version": 3
   },
   "file_extension": ".py",
   "mimetype": "text/x-python",
   "name": "python",
   "nbconvert_exporter": "python",
   "pygments_lexer": "ipython3",
   "version": "3.7.12"
  },
  "papermill": {
   "default_parameters": {},
   "duration": 18.123715,
   "end_time": "2022-10-30T07:09:40.904104",
   "environment_variables": {},
   "exception": null,
   "input_path": "__notebook__.ipynb",
   "output_path": "__notebook__.ipynb",
   "parameters": {},
   "start_time": "2022-10-30T07:09:22.780389",
   "version": "2.3.4"
  }
 },
 "nbformat": 4,
 "nbformat_minor": 5
}
